{
 "cells": [
  {
   "cell_type": "code",
   "execution_count": 123,
   "metadata": {},
   "outputs": [],
   "source": [
    "import pandas as pd"
   ]
  },
  {
   "cell_type": "markdown",
   "metadata": {},
   "source": [
    "**Задание 1**\n",
    "Для датафрейма log из материалов занятия создайте столбец source_type по следующим правилам:\n",
    "- если источник traffic_source равен yandex или google, то в source_type ставится organic\n",
    "- для источников paid и email из России - ставим ad\n",
    "- для источников paid и email не из России - ставим other\n",
    "- все остальные варианты берем из traffic_source без изменений"
   ]
  },
  {
   "cell_type": "code",
   "execution_count": 74,
   "metadata": {},
   "outputs": [
    {
     "data": {
      "text/html": [
       "<div>\n",
       "<style scoped>\n",
       "    .dataframe tbody tr th:only-of-type {\n",
       "        vertical-align: middle;\n",
       "    }\n",
       "\n",
       "    .dataframe tbody tr th {\n",
       "        vertical-align: top;\n",
       "    }\n",
       "\n",
       "    .dataframe thead th {\n",
       "        text-align: right;\n",
       "    }\n",
       "</style>\n",
       "<table border=\"1\" class=\"dataframe\">\n",
       "  <thead>\n",
       "    <tr style=\"text-align: right;\">\n",
       "      <th></th>\n",
       "      <th>timestamp</th>\n",
       "      <th>visit_id</th>\n",
       "      <th>url</th>\n",
       "      <th>region</th>\n",
       "      <th>user_id</th>\n",
       "      <th>traffic_source</th>\n",
       "    </tr>\n",
       "  </thead>\n",
       "  <tbody>\n",
       "    <tr>\n",
       "      <td>16889</td>\n",
       "      <td>1550081789</td>\n",
       "      <td>95e2c3b86f</td>\n",
       "      <td>https://host.ru/c8d9213a31839f9a3a</td>\n",
       "      <td>China</td>\n",
       "      <td>a26f1b090b</td>\n",
       "      <td>email</td>\n",
       "    </tr>\n",
       "    <tr>\n",
       "      <td>1405</td>\n",
       "      <td>1549989019</td>\n",
       "      <td>4022f6af97</td>\n",
       "      <td>https://host.ru/a8ce0b447c10a1deaa</td>\n",
       "      <td>Australia</td>\n",
       "      <td>9309ef17cf</td>\n",
       "      <td>yandex</td>\n",
       "    </tr>\n",
       "    <tr>\n",
       "      <td>1369</td>\n",
       "      <td>1549988825</td>\n",
       "      <td>c73e060f2b</td>\n",
       "      <td>https://host.ru/9010367b0b48d2f1b9</td>\n",
       "      <td>Ukraine</td>\n",
       "      <td>6a4a4134aa</td>\n",
       "      <td>direct</td>\n",
       "    </tr>\n",
       "    <tr>\n",
       "      <td>16327</td>\n",
       "      <td>1550078412</td>\n",
       "      <td>17b9449242</td>\n",
       "      <td>https://host.ru/c2382eb3d6afc8d0f3</td>\n",
       "      <td>Ukraine</td>\n",
       "      <td>a52c3683a7</td>\n",
       "      <td>direct</td>\n",
       "    </tr>\n",
       "    <tr>\n",
       "      <td>5291</td>\n",
       "      <td>1550012589</td>\n",
       "      <td>80b29b2545</td>\n",
       "      <td>https://host.ru/a5dda93e70318570c0</td>\n",
       "      <td>Russia</td>\n",
       "      <td>2a42ca28eb</td>\n",
       "      <td>google</td>\n",
       "    </tr>\n",
       "    <tr>\n",
       "      <td>15793</td>\n",
       "      <td>1550075081</td>\n",
       "      <td>fb52ab3dab</td>\n",
       "      <td>https://host.ru/ef57543002ce2a0f2a</td>\n",
       "      <td>Russia</td>\n",
       "      <td>fb4bd1e147</td>\n",
       "      <td>google</td>\n",
       "    </tr>\n",
       "    <tr>\n",
       "      <td>658</td>\n",
       "      <td>1549984632</td>\n",
       "      <td>ae0928da60</td>\n",
       "      <td>https://host.ru/53b1649b8344e663e9</td>\n",
       "      <td>China</td>\n",
       "      <td>455d07b065</td>\n",
       "      <td>yandex</td>\n",
       "    </tr>\n",
       "    <tr>\n",
       "      <td>18345</td>\n",
       "      <td>1550090836</td>\n",
       "      <td>d812719d46</td>\n",
       "      <td>https://host.ru/f2297425e1328e9e35</td>\n",
       "      <td>Russia</td>\n",
       "      <td>c273297405</td>\n",
       "      <td>google</td>\n",
       "    </tr>\n",
       "    <tr>\n",
       "      <td>8496</td>\n",
       "      <td>1550031497</td>\n",
       "      <td>e616feaaa7</td>\n",
       "      <td>https://host.ru/ee7c4e0674a284ee3f</td>\n",
       "      <td>Russia</td>\n",
       "      <td>ef89423ca3</td>\n",
       "      <td>paid</td>\n",
       "    </tr>\n",
       "    <tr>\n",
       "      <td>17941</td>\n",
       "      <td>1550088250</td>\n",
       "      <td>ce7b9251d7</td>\n",
       "      <td>https://host.ru/1a0fe145099b114845</td>\n",
       "      <td>Belarus</td>\n",
       "      <td>484dac24bf</td>\n",
       "      <td>google</td>\n",
       "    </tr>\n",
       "    <tr>\n",
       "      <td>8518</td>\n",
       "      <td>1550031650</td>\n",
       "      <td>e13760e1e2</td>\n",
       "      <td>https://host.ru/8fe7c39e5c598bbc54</td>\n",
       "      <td>Russia</td>\n",
       "      <td>5ec13d514d</td>\n",
       "      <td>paid</td>\n",
       "    </tr>\n",
       "    <tr>\n",
       "      <td>5049</td>\n",
       "      <td>1550011144</td>\n",
       "      <td>3a3d0028f8</td>\n",
       "      <td>https://host.ru/1a0fe145099b114845</td>\n",
       "      <td>Russia</td>\n",
       "      <td>a1dc3795fa</td>\n",
       "      <td>paid</td>\n",
       "    </tr>\n",
       "    <tr>\n",
       "      <td>10457</td>\n",
       "      <td>1550043137</td>\n",
       "      <td>35e6c5b757</td>\n",
       "      <td>https://host.ru/c8d9213a31839f9a3a</td>\n",
       "      <td>Ukraine</td>\n",
       "      <td>9cbd1e18f3</td>\n",
       "      <td>direct</td>\n",
       "    </tr>\n",
       "    <tr>\n",
       "      <td>15288</td>\n",
       "      <td>1550072123</td>\n",
       "      <td>3d8198906a</td>\n",
       "      <td>https://host.ru/39fa884393666d45fc</td>\n",
       "      <td>Russia</td>\n",
       "      <td>b4e7603545</td>\n",
       "      <td>email</td>\n",
       "    </tr>\n",
       "    <tr>\n",
       "      <td>6192</td>\n",
       "      <td>1550017953</td>\n",
       "      <td>3496a9837c</td>\n",
       "      <td>https://host.ru/8e88d4703848cc0ec4</td>\n",
       "      <td>Russia</td>\n",
       "      <td>2491a1f7c8</td>\n",
       "      <td>yandex</td>\n",
       "    </tr>\n",
       "  </tbody>\n",
       "</table>\n",
       "</div>"
      ],
      "text/plain": [
       "        timestamp    visit_id                                 url     region  \\\n",
       "16889  1550081789  95e2c3b86f  https://host.ru/c8d9213a31839f9a3a      China   \n",
       "1405   1549989019  4022f6af97  https://host.ru/a8ce0b447c10a1deaa  Australia   \n",
       "1369   1549988825  c73e060f2b  https://host.ru/9010367b0b48d2f1b9    Ukraine   \n",
       "16327  1550078412  17b9449242  https://host.ru/c2382eb3d6afc8d0f3    Ukraine   \n",
       "5291   1550012589  80b29b2545  https://host.ru/a5dda93e70318570c0     Russia   \n",
       "15793  1550075081  fb52ab3dab  https://host.ru/ef57543002ce2a0f2a     Russia   \n",
       "658    1549984632  ae0928da60  https://host.ru/53b1649b8344e663e9      China   \n",
       "18345  1550090836  d812719d46  https://host.ru/f2297425e1328e9e35     Russia   \n",
       "8496   1550031497  e616feaaa7  https://host.ru/ee7c4e0674a284ee3f     Russia   \n",
       "17941  1550088250  ce7b9251d7  https://host.ru/1a0fe145099b114845    Belarus   \n",
       "8518   1550031650  e13760e1e2  https://host.ru/8fe7c39e5c598bbc54     Russia   \n",
       "5049   1550011144  3a3d0028f8  https://host.ru/1a0fe145099b114845     Russia   \n",
       "10457  1550043137  35e6c5b757  https://host.ru/c8d9213a31839f9a3a    Ukraine   \n",
       "15288  1550072123  3d8198906a  https://host.ru/39fa884393666d45fc     Russia   \n",
       "6192   1550017953  3496a9837c  https://host.ru/8e88d4703848cc0ec4     Russia   \n",
       "\n",
       "          user_id traffic_source  \n",
       "16889  a26f1b090b          email  \n",
       "1405   9309ef17cf         yandex  \n",
       "1369   6a4a4134aa         direct  \n",
       "16327  a52c3683a7         direct  \n",
       "5291   2a42ca28eb         google  \n",
       "15793  fb4bd1e147         google  \n",
       "658    455d07b065         yandex  \n",
       "18345  c273297405         google  \n",
       "8496   ef89423ca3           paid  \n",
       "17941  484dac24bf         google  \n",
       "8518   5ec13d514d           paid  \n",
       "5049   a1dc3795fa           paid  \n",
       "10457  9cbd1e18f3         direct  \n",
       "15288  b4e7603545          email  \n",
       "6192   2491a1f7c8         yandex  "
      ]
     },
     "execution_count": 74,
     "metadata": {},
     "output_type": "execute_result"
    }
   ],
   "source": [
    "log = pd.read_csv('visit_log.csv', sep=';')\n",
    "log.sample(15)"
   ]
  },
  {
   "cell_type": "code",
   "execution_count": 76,
   "metadata": {},
   "outputs": [
    {
     "data": {
      "text/html": [
       "<div>\n",
       "<style scoped>\n",
       "    .dataframe tbody tr th:only-of-type {\n",
       "        vertical-align: middle;\n",
       "    }\n",
       "\n",
       "    .dataframe tbody tr th {\n",
       "        vertical-align: top;\n",
       "    }\n",
       "\n",
       "    .dataframe thead th {\n",
       "        text-align: right;\n",
       "    }\n",
       "</style>\n",
       "<table border=\"1\" class=\"dataframe\">\n",
       "  <thead>\n",
       "    <tr style=\"text-align: right;\">\n",
       "      <th></th>\n",
       "      <th>timestamp</th>\n",
       "      <th>visit_id</th>\n",
       "      <th>url</th>\n",
       "      <th>region</th>\n",
       "      <th>user_id</th>\n",
       "      <th>traffic_source</th>\n",
       "      <th>source_type</th>\n",
       "    </tr>\n",
       "  </thead>\n",
       "  <tbody>\n",
       "    <tr>\n",
       "      <td>14530</td>\n",
       "      <td>1550067505</td>\n",
       "      <td>624a868bb0</td>\n",
       "      <td>https://host.ru/108ce4b365afb7b88e</td>\n",
       "      <td>Ukraine</td>\n",
       "      <td>231b0a4715</td>\n",
       "      <td>google</td>\n",
       "      <td>organic</td>\n",
       "    </tr>\n",
       "    <tr>\n",
       "      <td>12466</td>\n",
       "      <td>1550055058</td>\n",
       "      <td>4552741c7f</td>\n",
       "      <td>https://host.ru/3a80d6ca023aed7752</td>\n",
       "      <td>Ukraine</td>\n",
       "      <td>8513f195e7</td>\n",
       "      <td>direct</td>\n",
       "      <td>direct</td>\n",
       "    </tr>\n",
       "    <tr>\n",
       "      <td>13404</td>\n",
       "      <td>1550060568</td>\n",
       "      <td>4933e46f2b</td>\n",
       "      <td>https://host.ru/39fa884393666d45fc</td>\n",
       "      <td>Ukraine</td>\n",
       "      <td>ec351b3822</td>\n",
       "      <td>direct</td>\n",
       "      <td>direct</td>\n",
       "    </tr>\n",
       "    <tr>\n",
       "      <td>1872</td>\n",
       "      <td>1549991935</td>\n",
       "      <td>e3dd750851</td>\n",
       "      <td>https://host.ru/108ce4b365afb7b88e</td>\n",
       "      <td>Australia</td>\n",
       "      <td>fde20d0772</td>\n",
       "      <td>direct</td>\n",
       "      <td>direct</td>\n",
       "    </tr>\n",
       "    <tr>\n",
       "      <td>1359</td>\n",
       "      <td>1549988767</td>\n",
       "      <td>eeffd04f95</td>\n",
       "      <td>https://host.ru/c8d9213a31839f9a3a</td>\n",
       "      <td>Russia</td>\n",
       "      <td>22aab58a61</td>\n",
       "      <td>email</td>\n",
       "      <td>ad</td>\n",
       "    </tr>\n",
       "    <tr>\n",
       "      <td>16404</td>\n",
       "      <td>1550078852</td>\n",
       "      <td>5b8a4dcd31</td>\n",
       "      <td>https://host.ru/f2297425e1328e9e35</td>\n",
       "      <td>Russia</td>\n",
       "      <td>71d3e4988d</td>\n",
       "      <td>direct</td>\n",
       "      <td>direct</td>\n",
       "    </tr>\n",
       "    <tr>\n",
       "      <td>14001</td>\n",
       "      <td>1550064247</td>\n",
       "      <td>c8901a9527</td>\n",
       "      <td>https://host.ru/a8ce0b447c10a1deaa</td>\n",
       "      <td>China</td>\n",
       "      <td>32668c6914</td>\n",
       "      <td>yandex</td>\n",
       "      <td>organic</td>\n",
       "    </tr>\n",
       "    <tr>\n",
       "      <td>9159</td>\n",
       "      <td>1550035420</td>\n",
       "      <td>43ca2fdd41</td>\n",
       "      <td>https://host.ru/186c4d6b47dbde0e74</td>\n",
       "      <td>Russia</td>\n",
       "      <td>d17925441c</td>\n",
       "      <td>paid</td>\n",
       "      <td>ad</td>\n",
       "    </tr>\n",
       "    <tr>\n",
       "      <td>8199</td>\n",
       "      <td>1550029749</td>\n",
       "      <td>c71b4392b2</td>\n",
       "      <td>https://host.ru/87010dbb42ea270213</td>\n",
       "      <td>Russia</td>\n",
       "      <td>bb2032ca64</td>\n",
       "      <td>direct</td>\n",
       "      <td>direct</td>\n",
       "    </tr>\n",
       "    <tr>\n",
       "      <td>15152</td>\n",
       "      <td>1550071277</td>\n",
       "      <td>a29d8c2c10</td>\n",
       "      <td>https://host.ru/1be58f19f26458f2fe</td>\n",
       "      <td>China</td>\n",
       "      <td>d29319b264</td>\n",
       "      <td>paid</td>\n",
       "      <td>other</td>\n",
       "    </tr>\n",
       "    <tr>\n",
       "      <td>8833</td>\n",
       "      <td>1550033474</td>\n",
       "      <td>2bc03019d5</td>\n",
       "      <td>https://host.ru/23c64743ad842b9311</td>\n",
       "      <td>Russia</td>\n",
       "      <td>4925b9b632</td>\n",
       "      <td>paid</td>\n",
       "      <td>ad</td>\n",
       "    </tr>\n",
       "    <tr>\n",
       "      <td>102</td>\n",
       "      <td>1549981343</td>\n",
       "      <td>c419a92c7d</td>\n",
       "      <td>https://host.ru/c8d9213a31839f9a3a</td>\n",
       "      <td>Belarus</td>\n",
       "      <td>7aee4844af</td>\n",
       "      <td>email</td>\n",
       "      <td>other</td>\n",
       "    </tr>\n",
       "    <tr>\n",
       "      <td>9032</td>\n",
       "      <td>1550034672</td>\n",
       "      <td>b0fcd10c54</td>\n",
       "      <td>https://host.ru/9010367b0b48d2f1b9</td>\n",
       "      <td>Russia</td>\n",
       "      <td>aed1d372a8</td>\n",
       "      <td>paid</td>\n",
       "      <td>ad</td>\n",
       "    </tr>\n",
       "    <tr>\n",
       "      <td>16207</td>\n",
       "      <td>1550077643</td>\n",
       "      <td>336dc8790f</td>\n",
       "      <td>https://host.ru/05e41944dd85a900a6</td>\n",
       "      <td>China</td>\n",
       "      <td>94ab75a20d</td>\n",
       "      <td>yandex</td>\n",
       "      <td>organic</td>\n",
       "    </tr>\n",
       "    <tr>\n",
       "      <td>15080</td>\n",
       "      <td>1550070814</td>\n",
       "      <td>462ed43c89</td>\n",
       "      <td>https://host.ru/df646c3676cc259fa0</td>\n",
       "      <td>Belarus</td>\n",
       "      <td>d01f260dd7</td>\n",
       "      <td>direct</td>\n",
       "      <td>direct</td>\n",
       "    </tr>\n",
       "  </tbody>\n",
       "</table>\n",
       "</div>"
      ],
      "text/plain": [
       "        timestamp    visit_id                                 url     region  \\\n",
       "14530  1550067505  624a868bb0  https://host.ru/108ce4b365afb7b88e    Ukraine   \n",
       "12466  1550055058  4552741c7f  https://host.ru/3a80d6ca023aed7752    Ukraine   \n",
       "13404  1550060568  4933e46f2b  https://host.ru/39fa884393666d45fc    Ukraine   \n",
       "1872   1549991935  e3dd750851  https://host.ru/108ce4b365afb7b88e  Australia   \n",
       "1359   1549988767  eeffd04f95  https://host.ru/c8d9213a31839f9a3a     Russia   \n",
       "16404  1550078852  5b8a4dcd31  https://host.ru/f2297425e1328e9e35     Russia   \n",
       "14001  1550064247  c8901a9527  https://host.ru/a8ce0b447c10a1deaa      China   \n",
       "9159   1550035420  43ca2fdd41  https://host.ru/186c4d6b47dbde0e74     Russia   \n",
       "8199   1550029749  c71b4392b2  https://host.ru/87010dbb42ea270213     Russia   \n",
       "15152  1550071277  a29d8c2c10  https://host.ru/1be58f19f26458f2fe      China   \n",
       "8833   1550033474  2bc03019d5  https://host.ru/23c64743ad842b9311     Russia   \n",
       "102    1549981343  c419a92c7d  https://host.ru/c8d9213a31839f9a3a    Belarus   \n",
       "9032   1550034672  b0fcd10c54  https://host.ru/9010367b0b48d2f1b9     Russia   \n",
       "16207  1550077643  336dc8790f  https://host.ru/05e41944dd85a900a6      China   \n",
       "15080  1550070814  462ed43c89  https://host.ru/df646c3676cc259fa0    Belarus   \n",
       "\n",
       "          user_id traffic_source source_type  \n",
       "14530  231b0a4715         google     organic  \n",
       "12466  8513f195e7         direct      direct  \n",
       "13404  ec351b3822         direct      direct  \n",
       "1872   fde20d0772         direct      direct  \n",
       "1359   22aab58a61          email          ad  \n",
       "16404  71d3e4988d         direct      direct  \n",
       "14001  32668c6914         yandex     organic  \n",
       "9159   d17925441c           paid          ad  \n",
       "8199   bb2032ca64         direct      direct  \n",
       "15152  d29319b264           paid       other  \n",
       "8833   4925b9b632           paid          ad  \n",
       "102    7aee4844af          email       other  \n",
       "9032   aed1d372a8           paid          ad  \n",
       "16207  94ab75a20d         yandex     organic  \n",
       "15080  d01f260dd7         direct      direct  "
      ]
     },
     "execution_count": 76,
     "metadata": {},
     "output_type": "execute_result"
    }
   ],
   "source": [
    "log['source_type'] = log['traffic_source']\n",
    "log.loc[( log['region'].str.contains('Russia') & log['traffic_source'].str.contains('paid|email')), 'source_type'] = 'ad'\n",
    "log.loc[(~log['region'].str.contains('Russia') & log['traffic_source'].str.contains('paid|email')), 'source_type'] = 'other'\n",
    "log.loc[log['traffic_source'].str.contains('yandex|google'), 'source_type'] = 'organic'\n",
    "log.sample(15)"
   ]
  },
  {
   "cell_type": "code",
   "execution_count": null,
   "metadata": {},
   "outputs": [],
   "source": []
  },
  {
   "cell_type": "markdown",
   "metadata": {},
   "source": [
    "**Задание 2**\n",
    "В файле URLs.txt содержатся url страниц новостного сайта. Вам необходимо отфильтровать его по адресам страниц с текстами новостей. Известно, что шаблон страницы новостей имеет внутри url следующую конструкцию: /, затем 8 цифр, затем дефис. Выполните следующие действия:\n",
    "1. Прочитайте содержимое файла с датафрейм\n",
    "2. Отфильтруйте страницы с текстом новостей, используя метод str.contains и регулярное выражение в соответствии с заданным шаблоном"
   ]
  },
  {
   "cell_type": "code",
   "execution_count": 85,
   "metadata": {},
   "outputs": [
    {
     "data": {
      "text/html": [
       "<div>\n",
       "<style scoped>\n",
       "    .dataframe tbody tr th:only-of-type {\n",
       "        vertical-align: middle;\n",
       "    }\n",
       "\n",
       "    .dataframe tbody tr th {\n",
       "        vertical-align: top;\n",
       "    }\n",
       "\n",
       "    .dataframe thead th {\n",
       "        text-align: right;\n",
       "    }\n",
       "</style>\n",
       "<table border=\"1\" class=\"dataframe\">\n",
       "  <thead>\n",
       "    <tr style=\"text-align: right;\">\n",
       "      <th></th>\n",
       "      <th>url</th>\n",
       "    </tr>\n",
       "  </thead>\n",
       "  <tbody>\n",
       "    <tr>\n",
       "      <td>0</td>\n",
       "      <td>/world/</td>\n",
       "    </tr>\n",
       "    <tr>\n",
       "      <td>1</td>\n",
       "      <td>/latest/</td>\n",
       "    </tr>\n",
       "    <tr>\n",
       "      <td>2</td>\n",
       "      <td>/?updated=top</td>\n",
       "    </tr>\n",
       "    <tr>\n",
       "      <td>3</td>\n",
       "      <td>/politics/36188461-s-marta-zhizn-rossiyan-susc...</td>\n",
       "    </tr>\n",
       "    <tr>\n",
       "      <td>4</td>\n",
       "      <td>/world/36007585-tramp-pridumal-kak-reshit-ukra...</td>\n",
       "    </tr>\n",
       "    <tr>\n",
       "      <td>5</td>\n",
       "      <td>/science/36157853-nasa-sobiraet-ekstrennuyu-pr...</td>\n",
       "    </tr>\n",
       "    <tr>\n",
       "      <td>6</td>\n",
       "      <td>/video/36001498-poyavilis-pervye-podrobnosti-g...</td>\n",
       "    </tr>\n",
       "    <tr>\n",
       "      <td>7</td>\n",
       "      <td>/world/36007585-tramp-pridumal-kak-reshit-ukra...</td>\n",
       "    </tr>\n",
       "    <tr>\n",
       "      <td>8</td>\n",
       "      <td>/science/</td>\n",
       "    </tr>\n",
       "    <tr>\n",
       "      <td>9</td>\n",
       "      <td>/sport/</td>\n",
       "    </tr>\n",
       "  </tbody>\n",
       "</table>\n",
       "</div>"
      ],
      "text/plain": [
       "                                                 url\n",
       "0                                            /world/\n",
       "1                                           /latest/\n",
       "2                                      /?updated=top\n",
       "3  /politics/36188461-s-marta-zhizn-rossiyan-susc...\n",
       "4  /world/36007585-tramp-pridumal-kak-reshit-ukra...\n",
       "5  /science/36157853-nasa-sobiraet-ekstrennuyu-pr...\n",
       "6  /video/36001498-poyavilis-pervye-podrobnosti-g...\n",
       "7  /world/36007585-tramp-pridumal-kak-reshit-ukra...\n",
       "8                                          /science/\n",
       "9                                            /sport/"
      ]
     },
     "execution_count": 85,
     "metadata": {},
     "output_type": "execute_result"
    }
   ],
   "source": [
    "df = pd.read_csv('URLs.txt')\n",
    "df.head(10)"
   ]
  },
  {
   "cell_type": "code",
   "execution_count": 87,
   "metadata": {},
   "outputs": [],
   "source": [
    "import re"
   ]
  },
  {
   "cell_type": "code",
   "execution_count": 95,
   "metadata": {},
   "outputs": [
    {
     "data": {
      "text/html": [
       "<div>\n",
       "<style scoped>\n",
       "    .dataframe tbody tr th:only-of-type {\n",
       "        vertical-align: middle;\n",
       "    }\n",
       "\n",
       "    .dataframe tbody tr th {\n",
       "        vertical-align: top;\n",
       "    }\n",
       "\n",
       "    .dataframe thead th {\n",
       "        text-align: right;\n",
       "    }\n",
       "</style>\n",
       "<table border=\"1\" class=\"dataframe\">\n",
       "  <thead>\n",
       "    <tr style=\"text-align: right;\">\n",
       "      <th></th>\n",
       "      <th>url</th>\n",
       "    </tr>\n",
       "  </thead>\n",
       "  <tbody>\n",
       "    <tr>\n",
       "      <td>3</td>\n",
       "      <td>/politics/36188461-s-marta-zhizn-rossiyan-susc...</td>\n",
       "    </tr>\n",
       "    <tr>\n",
       "      <td>4</td>\n",
       "      <td>/world/36007585-tramp-pridumal-kak-reshit-ukra...</td>\n",
       "    </tr>\n",
       "    <tr>\n",
       "      <td>5</td>\n",
       "      <td>/science/36157853-nasa-sobiraet-ekstrennuyu-pr...</td>\n",
       "    </tr>\n",
       "    <tr>\n",
       "      <td>6</td>\n",
       "      <td>/video/36001498-poyavilis-pervye-podrobnosti-g...</td>\n",
       "    </tr>\n",
       "    <tr>\n",
       "      <td>7</td>\n",
       "      <td>/world/36007585-tramp-pridumal-kak-reshit-ukra...</td>\n",
       "    </tr>\n",
       "  </tbody>\n",
       "</table>\n",
       "</div>"
      ],
      "text/plain": [
       "                                                 url\n",
       "3  /politics/36188461-s-marta-zhizn-rossiyan-susc...\n",
       "4  /world/36007585-tramp-pridumal-kak-reshit-ukra...\n",
       "5  /science/36157853-nasa-sobiraet-ekstrennuyu-pr...\n",
       "6  /video/36001498-poyavilis-pervye-podrobnosti-g...\n",
       "7  /world/36007585-tramp-pridumal-kak-reshit-ukra..."
      ]
     },
     "execution_count": 95,
     "metadata": {},
     "output_type": "execute_result"
    }
   ],
   "source": [
    "pattern = r'/\\d{8}-'\n",
    "df.loc[df['url'].str.contains(pattern)].head()"
   ]
  },
  {
   "cell_type": "code",
   "execution_count": null,
   "metadata": {},
   "outputs": [],
   "source": []
  },
  {
   "cell_type": "code",
   "execution_count": 89,
   "metadata": {},
   "outputs": [],
   "source": [
    "#def traffic(row):\n",
    "#    row.loc[row['traffic_source'].str.contains('yandex|google'), 'source_type'] = 'organic'\n",
    "        #return 'organic'\n",
    "    #return 'ad'\n",
    "#pass"
   ]
  },
  {
   "cell_type": "code",
   "execution_count": null,
   "metadata": {},
   "outputs": [],
   "source": [
    "#log = log.apply(traffic, axis =1)"
   ]
  },
  {
   "cell_type": "code",
   "execution_count": null,
   "metadata": {},
   "outputs": [],
   "source": []
  },
  {
   "cell_type": "markdown",
   "metadata": {},
   "source": [
    "### Домашнее задание 3\n",
    "В датафрейме data создайте столбец lemmas, в котором вычислите леммы поисковых запросов из столбца keyword. Леммы должны иметь строковый тип."
   ]
  },
  {
   "cell_type": "code",
   "execution_count": 125,
   "metadata": {},
   "outputs": [],
   "source": [
    "data = pd.DataFrame({\n",
    "    'keyword': ['курс гривны к рублю', 'доллары в рубли', '100 долларов в рублях', 'курс рубля'],\n",
    "    'shows': [125076, 114173, 97534, 53546],\n",
    "})"
   ]
  },
  {
   "cell_type": "code",
   "execution_count": 126,
   "metadata": {},
   "outputs": [
    {
     "data": {
      "text/html": [
       "<div>\n",
       "<style scoped>\n",
       "    .dataframe tbody tr th:only-of-type {\n",
       "        vertical-align: middle;\n",
       "    }\n",
       "\n",
       "    .dataframe tbody tr th {\n",
       "        vertical-align: top;\n",
       "    }\n",
       "\n",
       "    .dataframe thead th {\n",
       "        text-align: right;\n",
       "    }\n",
       "</style>\n",
       "<table border=\"1\" class=\"dataframe\">\n",
       "  <thead>\n",
       "    <tr style=\"text-align: right;\">\n",
       "      <th></th>\n",
       "      <th>keyword</th>\n",
       "      <th>shows</th>\n",
       "    </tr>\n",
       "  </thead>\n",
       "  <tbody>\n",
       "    <tr>\n",
       "      <td>0</td>\n",
       "      <td>курс гривны к рублю</td>\n",
       "      <td>125076</td>\n",
       "    </tr>\n",
       "    <tr>\n",
       "      <td>1</td>\n",
       "      <td>доллары в рубли</td>\n",
       "      <td>114173</td>\n",
       "    </tr>\n",
       "    <tr>\n",
       "      <td>2</td>\n",
       "      <td>100 долларов в рублях</td>\n",
       "      <td>97534</td>\n",
       "    </tr>\n",
       "    <tr>\n",
       "      <td>3</td>\n",
       "      <td>курс рубля</td>\n",
       "      <td>53546</td>\n",
       "    </tr>\n",
       "  </tbody>\n",
       "</table>\n",
       "</div>"
      ],
      "text/plain": [
       "                 keyword   shows\n",
       "0    курс гривны к рублю  125076\n",
       "1        доллары в рубли  114173\n",
       "2  100 долларов в рублях   97534\n",
       "3             курс рубля   53546"
      ]
     },
     "execution_count": 126,
     "metadata": {},
     "output_type": "execute_result"
    }
   ],
   "source": [
    "data"
   ]
  },
  {
   "cell_type": "code",
   "execution_count": 127,
   "metadata": {},
   "outputs": [],
   "source": [
    "from pymystem3 import Mystem"
   ]
  },
  {
   "cell_type": "code",
   "execution_count": 128,
   "metadata": {},
   "outputs": [],
   "source": [
    "def lemmatizing(row):\n",
    "    m = Mystem()\n",
    "    lemmas = ' '.join(m.lemmatize(row)).strip()\n",
    "    return lemmas"
   ]
  },
  {
   "cell_type": "code",
   "execution_count": 129,
   "metadata": {},
   "outputs": [
    {
     "data": {
      "text/html": [
       "<div>\n",
       "<style scoped>\n",
       "    .dataframe tbody tr th:only-of-type {\n",
       "        vertical-align: middle;\n",
       "    }\n",
       "\n",
       "    .dataframe tbody tr th {\n",
       "        vertical-align: top;\n",
       "    }\n",
       "\n",
       "    .dataframe thead th {\n",
       "        text-align: right;\n",
       "    }\n",
       "</style>\n",
       "<table border=\"1\" class=\"dataframe\">\n",
       "  <thead>\n",
       "    <tr style=\"text-align: right;\">\n",
       "      <th></th>\n",
       "      <th>keyword</th>\n",
       "      <th>shows</th>\n",
       "      <th>lemmas</th>\n",
       "    </tr>\n",
       "  </thead>\n",
       "  <tbody>\n",
       "    <tr>\n",
       "      <td>0</td>\n",
       "      <td>курс гривны к рублю</td>\n",
       "      <td>125076</td>\n",
       "      <td>курс   гривна   к   рубль</td>\n",
       "    </tr>\n",
       "    <tr>\n",
       "      <td>1</td>\n",
       "      <td>доллары в рубли</td>\n",
       "      <td>114173</td>\n",
       "      <td>доллар   в   рубль</td>\n",
       "    </tr>\n",
       "    <tr>\n",
       "      <td>2</td>\n",
       "      <td>100 долларов в рублях</td>\n",
       "      <td>97534</td>\n",
       "      <td>100   доллар   в   рубль</td>\n",
       "    </tr>\n",
       "    <tr>\n",
       "      <td>3</td>\n",
       "      <td>курс рубля</td>\n",
       "      <td>53546</td>\n",
       "      <td>курс   рубль</td>\n",
       "    </tr>\n",
       "  </tbody>\n",
       "</table>\n",
       "</div>"
      ],
      "text/plain": [
       "                 keyword   shows                     lemmas\n",
       "0    курс гривны к рублю  125076  курс   гривна   к   рубль\n",
       "1        доллары в рубли  114173         доллар   в   рубль\n",
       "2  100 долларов в рублях   97534   100   доллар   в   рубль\n",
       "3             курс рубля   53546               курс   рубль"
      ]
     },
     "execution_count": 129,
     "metadata": {},
     "output_type": "execute_result"
    }
   ],
   "source": [
    "data['lemmas'] = data['keyword'].apply(lemmatizing)\n",
    "data.head()"
   ]
  },
  {
   "cell_type": "code",
   "execution_count": 130,
   "metadata": {},
   "outputs": [
    {
     "data": {
      "text/html": [
       "<div>\n",
       "<style scoped>\n",
       "    .dataframe tbody tr th:only-of-type {\n",
       "        vertical-align: middle;\n",
       "    }\n",
       "\n",
       "    .dataframe tbody tr th {\n",
       "        vertical-align: top;\n",
       "    }\n",
       "\n",
       "    .dataframe thead th {\n",
       "        text-align: right;\n",
       "    }\n",
       "</style>\n",
       "<table border=\"1\" class=\"dataframe\">\n",
       "  <thead>\n",
       "    <tr style=\"text-align: right;\">\n",
       "      <th></th>\n",
       "      <th>lemmas</th>\n",
       "    </tr>\n",
       "  </thead>\n",
       "  <tbody>\n",
       "    <tr>\n",
       "      <td>1</td>\n",
       "      <td>доллар   в   рубль</td>\n",
       "    </tr>\n",
       "  </tbody>\n",
       "</table>\n",
       "</div>"
      ],
      "text/plain": [
       "               lemmas\n",
       "1  доллар   в   рубль"
      ]
     },
     "execution_count": 130,
     "metadata": {},
     "output_type": "execute_result"
    }
   ],
   "source": [
    "data.loc[[1],['lemmas']]"
   ]
  },
  {
   "cell_type": "code",
   "execution_count": 131,
   "metadata": {},
   "outputs": [
    {
     "name": "stdout",
     "output_type": "stream",
     "text": [
      "               lemmas\n",
      "1  доллар   в   рубль\n"
     ]
    }
   ],
   "source": [
    "string_data = data.loc[[1],['lemmas']]\n",
    "print(string_data)"
   ]
  },
  {
   "cell_type": "code",
   "execution_count": 132,
   "metadata": {},
   "outputs": [
    {
     "data": {
      "text/plain": [
       "pandas.core.frame.DataFrame"
      ]
     },
     "execution_count": 132,
     "metadata": {},
     "output_type": "execute_result"
    }
   ],
   "source": [
    "type(data.loc[[1],['lemmas']])"
   ]
  },
  {
   "cell_type": "code",
   "execution_count": 133,
   "metadata": {},
   "outputs": [
    {
     "data": {
      "text/plain": [
       "pandas.core.frame.DataFrame"
      ]
     },
     "execution_count": 133,
     "metadata": {},
     "output_type": "execute_result"
    }
   ],
   "source": [
    "type(string_data)"
   ]
  },
  {
   "cell_type": "code",
   "execution_count": 135,
   "metadata": {},
   "outputs": [
    {
     "data": {
      "text/plain": [
       "array(['доллар   в   рубль'], dtype=object)"
      ]
     },
     "execution_count": 135,
     "metadata": {},
     "output_type": "execute_result"
    }
   ],
   "source": [
    "string_data.values[0]"
   ]
  },
  {
   "cell_type": "code",
   "execution_count": 136,
   "metadata": {},
   "outputs": [
    {
     "data": {
      "text/plain": [
       "'доллар   в   рубль'"
      ]
     },
     "execution_count": 136,
     "metadata": {},
     "output_type": "execute_result"
    }
   ],
   "source": [
    "string_data.values[0][0]"
   ]
  },
  {
   "cell_type": "code",
   "execution_count": 137,
   "metadata": {},
   "outputs": [
    {
     "data": {
      "text/plain": [
       "str"
      ]
     },
     "execution_count": 137,
     "metadata": {},
     "output_type": "execute_result"
    }
   ],
   "source": [
    "type(string_data.values[0][0])"
   ]
  },
  {
   "cell_type": "code",
   "execution_count": 138,
   "metadata": {},
   "outputs": [
    {
     "data": {
      "text/plain": [
       "str"
      ]
     },
     "execution_count": 138,
     "metadata": {},
     "output_type": "execute_result"
    }
   ],
   "source": [
    "type(data.loc[[1],['lemmas']].values[0][0])"
   ]
  },
  {
   "cell_type": "code",
   "execution_count": null,
   "metadata": {},
   "outputs": [],
   "source": []
  }
 ],
 "metadata": {
  "kernelspec": {
   "display_name": "Python 3",
   "language": "python",
   "name": "python3"
  },
  "language_info": {
   "codemirror_mode": {
    "name": "ipython",
    "version": 3
   },
   "file_extension": ".py",
   "mimetype": "text/x-python",
   "name": "python",
   "nbconvert_exporter": "python",
   "pygments_lexer": "ipython3",
   "version": "3.7.4"
  }
 },
 "nbformat": 4,
 "nbformat_minor": 2
}
